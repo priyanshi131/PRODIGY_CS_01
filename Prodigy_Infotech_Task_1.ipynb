{
  "nbformat": 4,
  "nbformat_minor": 0,
  "metadata": {
    "colab": {
      "provenance": []
    },
    "kernelspec": {
      "name": "python3",
      "display_name": "Python 3"
    },
    "language_info": {
      "name": "python"
    }
  },
  "cells": [
    {
      "cell_type": "code",
      "execution_count": 1,
      "metadata": {
        "colab": {
          "base_uri": "https://localhost:8080/"
        },
        "id": "W_JzmlVsNfEd",
        "outputId": "3fe8c8c6-a400-4430-cfe5-df97518b244e"
      },
      "outputs": [
        {
          "output_type": "stream",
          "name": "stdout",
          "text": [
            "1. Encrypt\n",
            "2. Decrypt\n",
            "3. Quit\n",
            "Enter your choice: 1\n",
            "Enter message to encrypt: Hello word\n",
            "Enter shift value: 3\n",
            "Encrypted message: Khoor zrug\n",
            "1. Encrypt\n",
            "2. Decrypt\n",
            "3. Quit\n",
            "Enter your choice: 2\n",
            "Enter message to decrypt: khoor zrug\n",
            "Enter shift value: 3\n",
            "Decrypted message: hello word\n",
            "1. Encrypt\n",
            "2. Decrypt\n",
            "3. Quit\n",
            "Enter your choice: 3\n",
            "Exiting program...\n"
          ]
        }
      ],
      "source": [
        "def caesar_cipher(text, shift, decrypt=False):\n",
        "    encrypted_text = \"\"\n",
        "    for char in text:\n",
        "        if char.isalpha():\n",
        "            shift_amount = shift\n",
        "            if decrypt:\n",
        "                shift_amount = -shift_amount\n",
        "            shifted_char = chr(((ord(char.lower()) - 97 + shift_amount) % 26) + 97)\n",
        "            if char.isupper():\n",
        "                shifted_char = shifted_char.upper()\n",
        "            encrypted_text += shifted_char\n",
        "        else:\n",
        "            encrypted_text += char\n",
        "    return encrypted_text\n",
        "\n",
        "def main():\n",
        "    while True:\n",
        "        print(\"1. Encrypt\")\n",
        "        print(\"2. Decrypt\")\n",
        "        print(\"3. Quit\")\n",
        "        choice = input(\"Enter your choice: \")\n",
        "\n",
        "        if choice == '1':\n",
        "            message = input(\"Enter message to encrypt: \")\n",
        "            shift = int(input(\"Enter shift value: \"))\n",
        "            encrypted_message = caesar_cipher(message, shift)\n",
        "            print(\"Encrypted message:\", encrypted_message)\n",
        "        elif choice == '2':\n",
        "            message = input(\"Enter message to decrypt: \")\n",
        "            shift = int(input(\"Enter shift value: \"))\n",
        "            decrypted_message = caesar_cipher(message, shift, decrypt=True)\n",
        "            print(\"Decrypted message:\", decrypted_message)\n",
        "        elif choice == '3':\n",
        "            print(\"Exiting program...\")\n",
        "            break\n",
        "        else:\n",
        "            print(\"Invalid choice. Please enter 1, 2, or 3.\")\n",
        "\n",
        "if __name__ == \"__main__\":\n",
        "    main()\n"
      ]
    }
  ]
}